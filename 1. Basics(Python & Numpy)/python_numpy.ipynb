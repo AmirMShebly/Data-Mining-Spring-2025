{
 "cells": [
  {
   "cell_type": "markdown",
   "id": "a45290d7-5f4d-4d2e-8bb0-13769ba4e863",
   "metadata": {},
   "source": [
    "# Python Basics\n",
    "* Data types\r\n",
    "    * Number\n",
    "    * Stringses\r\n",
    "    * Boole\n",
    "* Data Structures\n",
    "    * Lists\n",
    "    * Tuples\n",
    "    * Dictionaries\n",
    "    * Sets \r\n",
    "    * Sets\r\n",
    "* Comparison Operators\r\n",
    "* if, elif, else Statements\r\n",
    "* for Loops\r\n",
    "* whilelist comprehension\r\n",
    "* functions\r\n",
    "* lambda expressions\r\n",
    "* map and filter\r\n",
    "* methods"
   ]
  },
  {
   "cell_type": "markdown",
   "id": "290e44ac-90fd-4a20-bc1e-fdae1e39abea",
   "metadata": {},
   "source": [
    "# Data Types"
   ]
  },
  {
   "cell_type": "code",
   "execution_count": 1,
   "id": "d731605a-beb3-4d51-ae0c-7e9a7c0b70d5",
   "metadata": {},
   "outputs": [],
   "source": [
    "var_integer = 1\n",
    "var_float = 3.14\n",
    "\n",
    "var_bool = True\n",
    "\n",
    "var_char = 'c'\n",
    "\n",
    "var_string = \"Data Mining\""
   ]
  },
  {
   "cell_type": "code",
   "execution_count": 3,
   "id": "7e4d1870-8f3c-419c-9009-eaaf094fd3b0",
   "metadata": {},
   "outputs": [
    {
     "data": {
      "text/plain": [
       "2"
      ]
     },
     "execution_count": 3,
     "metadata": {},
     "output_type": "execute_result"
    }
   ],
   "source": [
    "1 + 1"
   ]
  },
  {
   "cell_type": "code",
   "execution_count": 5,
   "id": "ff494ea7-b236-482c-82c8-10521ffee772",
   "metadata": {},
   "outputs": [
    {
     "data": {
      "text/plain": [
       "14"
      ]
     },
     "execution_count": 5,
     "metadata": {},
     "output_type": "execute_result"
    }
   ],
   "source": [
    "2 * 7"
   ]
  },
  {
   "cell_type": "code",
   "execution_count": 7,
   "id": "c8ff0533-b298-4bd3-8a25-ca7232a9b443",
   "metadata": {},
   "outputs": [
    {
     "data": {
      "text/plain": [
       "12.5"
      ]
     },
     "execution_count": 7,
     "metadata": {},
     "output_type": "execute_result"
    }
   ],
   "source": [
    "100 / 8"
   ]
  },
  {
   "cell_type": "code",
   "execution_count": 9,
   "id": "ae91570d-c126-478c-ac79-5a537f122ba5",
   "metadata": {},
   "outputs": [
    {
     "data": {
      "text/plain": [
       "20"
      ]
     },
     "execution_count": 9,
     "metadata": {},
     "output_type": "execute_result"
    }
   ],
   "source": [
    "100 // 5"
   ]
  },
  {
   "cell_type": "code",
   "execution_count": 11,
   "id": "5b3303e2-bf6c-4c72-be2b-2f023c083ff0",
   "metadata": {},
   "outputs": [
    {
     "data": {
      "text/plain": [
       "64"
      ]
     },
     "execution_count": 11,
     "metadata": {},
     "output_type": "execute_result"
    }
   ],
   "source": [
    "4 ** 3"
   ]
  },
  {
   "cell_type": "code",
   "execution_count": 13,
   "id": "09e37beb-c170-4ef5-946e-f3157451fe10",
   "metadata": {},
   "outputs": [
    {
     "data": {
      "text/plain": [
       "2"
      ]
     },
     "execution_count": 13,
     "metadata": {},
     "output_type": "execute_result"
    }
   ],
   "source": [
    "100 % 7"
   ]
  },
  {
   "cell_type": "markdown",
   "id": "ad0b8f6c-a16b-4f30-bf1f-b07c245ed5a0",
   "metadata": {},
   "source": [
    "# Lists\n",
    "Python lists are ordered, mutable and versatile data structures. They can hold a collection of items, which can be of different data types."
   ]
  },
  {
   "cell_type": "code",
   "execution_count": 15,
   "id": "8a1471b6-a34c-4d0a-90dd-8b32e16efc10",
   "metadata": {},
   "outputs": [],
   "source": [
    "list_a = list((1, 2, 3, 4))\n",
    "list_b = [1, 2, 3, 4]"
   ]
  },
  {
   "cell_type": "code",
   "execution_count": 17,
   "id": "430b0332-f002-471a-88c0-b2e995e8d4aa",
   "metadata": {},
   "outputs": [
    {
     "data": {
      "text/plain": [
       "[1, 2, 3, 4, 0, 1, 2, 3, 4, 5, 6, 7, 8, 9]"
      ]
     },
     "execution_count": 17,
     "metadata": {},
     "output_type": "execute_result"
    }
   ],
   "source": [
    "for i in range(10):\n",
    "    list_b.append(i)\n",
    "list_b"
   ]
  },
  {
   "cell_type": "code",
   "execution_count": 19,
   "id": "01d3e232-853b-4475-95d2-d789a264cc55",
   "metadata": {},
   "outputs": [],
   "source": [
    "list_b.append(5)"
   ]
  },
  {
   "cell_type": "code",
   "execution_count": 21,
   "id": "97321f5f-1c9b-4655-8c7d-f7ba4a5aa4bb",
   "metadata": {},
   "outputs": [
    {
     "data": {
      "text/plain": [
       "5"
      ]
     },
     "execution_count": 21,
     "metadata": {},
     "output_type": "execute_result"
    }
   ],
   "source": [
    "# stack\n",
    "list_b.pop()"
   ]
  },
  {
   "cell_type": "code",
   "execution_count": 23,
   "id": "f2ab7296-6ca2-4a83-91b3-03bbe292e0bd",
   "metadata": {},
   "outputs": [
    {
     "data": {
      "text/plain": [
       "1"
      ]
     },
     "execution_count": 23,
     "metadata": {},
     "output_type": "execute_result"
    }
   ],
   "source": [
    "# queue\n",
    "list_b.pop(0)"
   ]
  },
  {
   "cell_type": "code",
   "execution_count": 25,
   "id": "7f6ec927-dd6f-4d8d-97b2-b66a8a190892",
   "metadata": {},
   "outputs": [
    {
     "data": {
      "text/plain": [
       "['s', 1, [1, 2], 'string_data', 1.7, False]"
      ]
     },
     "execution_count": 25,
     "metadata": {},
     "output_type": "execute_result"
    }
   ],
   "source": [
    "list_c = ['s',1,[1,2], \"string_data\", 1.7, False]\n",
    "list_c"
   ]
  },
  {
   "cell_type": "code",
   "execution_count": 27,
   "id": "8a31ca76-83c4-41dd-b9f9-5d54f40699d9",
   "metadata": {},
   "outputs": [
    {
     "data": {
      "text/plain": [
       "6"
      ]
     },
     "execution_count": 27,
     "metadata": {},
     "output_type": "execute_result"
    }
   ],
   "source": [
    "len(list_c)"
   ]
  },
  {
   "cell_type": "code",
   "execution_count": 29,
   "id": "ee7fab39-442c-4d4e-8a87-605737663d45",
   "metadata": {},
   "outputs": [
    {
     "data": {
      "text/plain": [
       "[0, 1, 2, 2, 3, 3, 4, 4, 5, 6, 7, 8, 9]"
      ]
     },
     "execution_count": 29,
     "metadata": {},
     "output_type": "execute_result"
    }
   ],
   "source": [
    "list_b.sort()\n",
    "list_b"
   ]
  },
  {
   "cell_type": "markdown",
   "id": "4af3cbd1-6bf9-46aa-a6f7-e7d20c18e65f",
   "metadata": {},
   "source": [
    "# Tuples\n",
    "Tuples are ordered, immutable sequences in Python, typically defined using parentheses. Unlike lists, tuples cannot be modified after creation, making them suitable for representing fixed collections of data."
   ]
  },
  {
   "cell_type": "code",
   "execution_count": 31,
   "id": "a9c8bc35-5fa8-4d63-a983-73f646a6a445",
   "metadata": {},
   "outputs": [],
   "source": [
    "tuple_a = (1, 3, 5)\n",
    "tuple_b = (2, 4, 6)"
   ]
  },
  {
   "cell_type": "code",
   "execution_count": 33,
   "id": "b5990359-6c6a-450e-a64b-f32bcc7401cf",
   "metadata": {},
   "outputs": [
    {
     "data": {
      "text/plain": [
       "[1, 10, 3, 4]"
      ]
     },
     "execution_count": 33,
     "metadata": {},
     "output_type": "execute_result"
    }
   ],
   "source": [
    "list_a[1] = 10\n",
    "list_a"
   ]
  },
  {
   "cell_type": "code",
   "execution_count": 35,
   "id": "ccd8e4c9-166e-4b2c-bf2e-8871fa7ca960",
   "metadata": {},
   "outputs": [
    {
     "ename": "TypeError",
     "evalue": "'type' object does not support item assignment",
     "output_type": "error",
     "traceback": [
      "\u001b[1;31m---------------------------------------------------------------------------\u001b[0m",
      "\u001b[1;31mTypeError\u001b[0m                                 Traceback (most recent call last)",
      "Cell \u001b[1;32mIn[35], line 1\u001b[0m\n\u001b[1;32m----> 1\u001b[0m \u001b[38;5;28mtuple\u001b[39m[\u001b[38;5;241m1\u001b[39m] \u001b[38;5;241m=\u001b[39m \u001b[38;5;241m10\u001b[39m\n",
      "\u001b[1;31mTypeError\u001b[0m: 'type' object does not support item assignment"
     ]
    }
   ],
   "source": [
    "tuple[1] = 10"
   ]
  },
  {
   "cell_type": "code",
   "execution_count": 37,
   "id": "483a3cca-57ba-4c14-8ae3-a261f150b097",
   "metadata": {},
   "outputs": [],
   "source": [
    "tuple_c = 1, 2, 3"
   ]
  },
  {
   "cell_type": "code",
   "execution_count": 39,
   "id": "eb3ae0bb-c3d6-44bc-805a-4863d43035be",
   "metadata": {},
   "outputs": [
    {
     "data": {
      "text/plain": [
       "tuple"
      ]
     },
     "execution_count": 39,
     "metadata": {},
     "output_type": "execute_result"
    }
   ],
   "source": [
    "type(tuple_c)"
   ]
  },
  {
   "cell_type": "markdown",
   "id": "6e7111a7-3405-4025-afcd-684a69c47d85",
   "metadata": {},
   "source": [
    "# Sets"
   ]
  },
  {
   "cell_type": "code",
   "execution_count": 41,
   "id": "61244247-ed40-4b3e-a019-c787d9f71ab7",
   "metadata": {},
   "outputs": [
    {
     "data": {
      "text/plain": [
       "{1, 2, 3, 4}"
      ]
     },
     "execution_count": 41,
     "metadata": {},
     "output_type": "execute_result"
    }
   ],
   "source": [
    "a = {1, 2, 3, 4, 4, 1}\n",
    "a"
   ]
  },
  {
   "cell_type": "markdown",
   "id": "c6485926-bc2e-4fea-9217-2e24bc218e36",
   "metadata": {},
   "source": [
    "# Dictionaries\n",
    "Python dictionaries are mutable, unordered collections of key-value pairs. Each key must be unique and immutable and it's used to access its corresponding value. Dictionaries are defined using curly braces {} and provide efficient lookups based on keys. They are fundamental for storing and retrieving data based on unique identifiers."
   ]
  },
  {
   "cell_type": "code",
   "execution_count": 43,
   "id": "a1739c2a-63e4-4c8d-8e16-760ea2c01a5b",
   "metadata": {},
   "outputs": [
    {
     "data": {
      "text/plain": [
       "{'first_name': 'Chelsea', 'last_name': 'Finn', 'age': 36, 'country': 'US'}"
      ]
     },
     "execution_count": 43,
     "metadata": {},
     "output_type": "execute_result"
    }
   ],
   "source": [
    "dict_a = dict(first_name = \"Chelsea\", last_name=\"Finn\", age = 36, country = \"US\")\n",
    "dict_a"
   ]
  },
  {
   "cell_type": "code",
   "execution_count": 45,
   "id": "6b10c5a9-29ec-48da-afab-0c22f22531f1",
   "metadata": {},
   "outputs": [
    {
     "data": {
      "text/plain": [
       "{'first_name': 'Chelsea', 'last_name': 'Finn', 'age': 36, 'country': 'US'}"
      ]
     },
     "execution_count": 45,
     "metadata": {},
     "output_type": "execute_result"
    }
   ],
   "source": [
    "chealse_dict = {\n",
    "    \"first_name\": \"Chelsea\", \n",
    "    \"last_name\": \"Finn\", \n",
    "    \"age\": 36, \n",
    "    \"country\": \"US\"\n",
    "}\n",
    "\n",
    "chealse_dict"
   ]
  },
  {
   "cell_type": "code",
   "execution_count": 47,
   "id": "2821a26f-ff0d-4a4c-bc99-bac6bb5a9b58",
   "metadata": {},
   "outputs": [
    {
     "data": {
      "text/plain": [
       "'US'"
      ]
     },
     "execution_count": 47,
     "metadata": {},
     "output_type": "execute_result"
    }
   ],
   "source": [
    "chealse_dict['country']"
   ]
  },
  {
   "cell_type": "code",
   "execution_count": null,
   "id": "bdfb57de-01eb-41d1-819a-04a13dc7b552",
   "metadata": {},
   "outputs": [],
   "source": []
  },
  {
   "cell_type": "code",
   "execution_count": 49,
   "id": "2ffc0e07-d66f-4bd4-9a39-f0ce29d7b07b",
   "metadata": {},
   "outputs": [
    {
     "name": "stdout",
     "output_type": "stream",
     "text": [
      "0\n",
      "0\n",
      "1\n",
      "2\n",
      "0\n",
      "4\n",
      "3\n",
      "2\n",
      "1\n"
     ]
    }
   ],
   "source": [
    "for i in range(1, 10):\n",
    "    print(10 % i)"
   ]
  },
  {
   "cell_type": "code",
   "execution_count": 51,
   "id": "257426a5-5cc6-470f-8736-ab646248a736",
   "metadata": {},
   "outputs": [
    {
     "name": "stdout",
     "output_type": "stream",
     "text": [
      "1\n",
      "4\n",
      "9\n",
      "16\n",
      "25\n"
     ]
    }
   ],
   "source": [
    "sequence = [1, 2, 3, 4, 5]\n",
    "\n",
    "for num in sequence:\n",
    "    print(num**2)"
   ]
  },
  {
   "cell_type": "code",
   "execution_count": 53,
   "id": "3fb8376e-0b62-4be7-9212-813eef55bede",
   "metadata": {},
   "outputs": [],
   "source": [
    "while i < 5:\n",
    "    print(i)\n",
    "    i = i+1"
   ]
  },
  {
   "cell_type": "code",
   "execution_count": 55,
   "id": "2125140e-adff-466d-82f1-bb212630448a",
   "metadata": {},
   "outputs": [
    {
     "name": "stdin",
     "output_type": "stream",
     "text": [
      "How Much? 15\n"
     ]
    },
    {
     "name": "stdout",
     "output_type": "stream",
     "text": [
      "VERY NICE. GREAT SUCCESS!!!\n"
     ]
    }
   ],
   "source": [
    "correct = 15\n",
    "left_lim = 10\n",
    "right_lim = 20\n",
    "num_guesses = 3\n",
    "while num_guesses:\n",
    "    guess = int(input(\"How Much?\"))\n",
    "    if guess == correct:\n",
    "        print(\"VERY NICE. GREAT SUCCESS!!!\")\n",
    "        break\n",
    "    else:\n",
    "        print(\"No!. This is not TRUE.\")\n",
    "        num_guesses -= 1"
   ]
  },
  {
   "cell_type": "markdown",
   "id": "b9b4f4c6-6507-475e-a632-ea4d2255e2c4",
   "metadata": {},
   "source": [
    "# List Comprehension\n",
    "List comprehension provides a concise way to create lists in Python. It offers a more readable and often faster alternative to using for loops for generating lists based on existing iterables. The basic syntax is [expression for item in iterable if condition], which creates a new list by evaluating the expression for each item in the iterable that satisfies the optional condition."
   ]
  },
  {
   "cell_type": "code",
   "execution_count": 57,
   "id": "bbfb4fb2-d30a-4469-a30b-5550dd4a5841",
   "metadata": {},
   "outputs": [
    {
     "name": "stdout",
     "output_type": "stream",
     "text": [
      "[1, 4, 9, 16]\n"
     ]
    }
   ],
   "source": [
    "x = [1 ,2, 3, 4]\n",
    "out = []\n",
    "for item in x:\n",
    "    out.append(item**2)\n",
    "print(out)"
   ]
  },
  {
   "cell_type": "code",
   "execution_count": 59,
   "id": "da9e2c42-6180-49db-9ca8-7d95ada9032e",
   "metadata": {},
   "outputs": [
    {
     "data": {
      "text/plain": [
       "[1, 4, 9, 16]"
      ]
     },
     "execution_count": 59,
     "metadata": {},
     "output_type": "execute_result"
    }
   ],
   "source": [
    "[item**2 for item in x]"
   ]
  },
  {
   "cell_type": "code",
   "execution_count": 61,
   "id": "f9919570-10cb-4d24-8176-55f1acd04003",
   "metadata": {},
   "outputs": [
    {
     "data": {
      "text/plain": [
       "[2, 4]"
      ]
     },
     "execution_count": 61,
     "metadata": {},
     "output_type": "execute_result"
    }
   ],
   "source": [
    "[item for item in x if item % 2 == 0]"
   ]
  },
  {
   "cell_type": "markdown",
   "id": "61585b7e-fd07-48bd-a352-1eb2f6c883e2",
   "metadata": {},
   "source": [
    "# Lambda Functions\n",
    "Lambda functions in Python are small, anonymous, and inline functions defined using the lambda keyword. They can take any number of arguments but can only have one expression. Lambdas are often used for creating simple functions on the fly, particularly for tasks like sorting or filtering, where a full function definition would be unnecessarily verbose."
   ]
  },
  {
   "cell_type": "code",
   "execution_count": 63,
   "id": "6dc2995c-d18b-4cde-8e61-91965df423ec",
   "metadata": {},
   "outputs": [],
   "source": [
    "def square(x):\n",
    "    return x*x"
   ]
  },
  {
   "cell_type": "code",
   "execution_count": 65,
   "id": "e9f2f8a6-b71b-4f71-b98c-95c990aafaf4",
   "metadata": {},
   "outputs": [
    {
     "data": {
      "text/plain": [
       "64"
      ]
     },
     "execution_count": 65,
     "metadata": {},
     "output_type": "execute_result"
    }
   ],
   "source": [
    "square(8)"
   ]
  },
  {
   "cell_type": "code",
   "execution_count": 67,
   "id": "4d2d5399-bf77-47dc-9120-9ccda91de536",
   "metadata": {},
   "outputs": [],
   "source": [
    "square = lambda x: x*x"
   ]
  },
  {
   "cell_type": "code",
   "execution_count": 69,
   "id": "c917d7f5-dd6a-48d6-bc36-c574b0cf53ae",
   "metadata": {},
   "outputs": [
    {
     "data": {
      "text/plain": [
       "64"
      ]
     },
     "execution_count": 69,
     "metadata": {},
     "output_type": "execute_result"
    }
   ],
   "source": [
    "square(8)"
   ]
  },
  {
   "cell_type": "code",
   "execution_count": 71,
   "id": "d3753aa8-b14c-44a5-a127-f513815def69",
   "metadata": {},
   "outputs": [
    {
     "name": "stdout",
     "output_type": "stream",
     "text": [
      "[1, 4, 9, 16, 25]\n"
     ]
    }
   ],
   "source": [
    "numbers = [1, 2, 3, 4, 5]\n",
    "\n",
    "squared_numbers = list(map(lambda x: x * x, numbers))\n",
    "\n",
    "print(squared_numbers) "
   ]
  },
  {
   "cell_type": "code",
   "execution_count": 73,
   "id": "f5f0f18d-7015-4cf7-87f0-1f5c3d6eddfe",
   "metadata": {},
   "outputs": [
    {
     "data": {
      "text/plain": [
       "[2, 4]"
      ]
     },
     "execution_count": 73,
     "metadata": {},
     "output_type": "execute_result"
    }
   ],
   "source": [
    "even_numbers = list(filter(lambda x: x % 2 == 0, numbers))\n",
    "even_numbers"
   ]
  },
  {
   "cell_type": "markdown",
   "id": "5a56e647-a85d-4a0f-b408-6423122a2874",
   "metadata": {},
   "source": [
    "# Numpy"
   ]
  },
  {
   "cell_type": "code",
   "execution_count": 75,
   "id": "89de71b8-2f88-4188-9f54-5b85998b2700",
   "metadata": {},
   "outputs": [],
   "source": [
    "import numpy as np"
   ]
  },
  {
   "cell_type": "code",
   "execution_count": 77,
   "id": "ce115a09-d06f-4d95-be7c-5f072dd95a9d",
   "metadata": {},
   "outputs": [],
   "source": [
    "list = [1, 2, 3]\n",
    "array = np.array((list))\n",
    "array_2 = np.array([4, 5, 6])"
   ]
  },
  {
   "cell_type": "code",
   "execution_count": 79,
   "id": "10cbf5a2-50ee-498d-ae9e-3340b2f88c29",
   "metadata": {},
   "outputs": [],
   "source": [
    "matrix = np.array([[1,2,3],[4,5,6],[7,8,9]])"
   ]
  },
  {
   "cell_type": "code",
   "execution_count": 81,
   "id": "4e47a752-e297-48c5-bd42-393be4ebc9ca",
   "metadata": {},
   "outputs": [
    {
     "data": {
      "text/plain": [
       "array([0, 1, 2, 3, 4, 5, 6, 7, 8, 9])"
      ]
     },
     "execution_count": 81,
     "metadata": {},
     "output_type": "execute_result"
    }
   ],
   "source": [
    "np.arange(0,10)"
   ]
  },
  {
   "cell_type": "code",
   "execution_count": 83,
   "id": "ec636afe-6197-45ea-901c-63e875702032",
   "metadata": {},
   "outputs": [
    {
     "data": {
      "text/plain": [
       "array([ 0,  2,  4,  6,  8, 10])"
      ]
     },
     "execution_count": 83,
     "metadata": {},
     "output_type": "execute_result"
    }
   ],
   "source": [
    "np.arange(0,11,2)"
   ]
  },
  {
   "cell_type": "code",
   "execution_count": 85,
   "id": "57c71aac-cdbf-4c87-975e-7fadfcb59c0d",
   "metadata": {},
   "outputs": [
    {
     "data": {
      "text/plain": [
       "array([[0., 0., 0., 0., 0.],\n",
       "       [0., 0., 0., 0., 0.],\n",
       "       [0., 0., 0., 0., 0.],\n",
       "       [0., 0., 0., 0., 0.],\n",
       "       [0., 0., 0., 0., 0.]])"
      ]
     },
     "execution_count": 85,
     "metadata": {},
     "output_type": "execute_result"
    }
   ],
   "source": [
    "np.zeros((5,5))"
   ]
  },
  {
   "cell_type": "code",
   "execution_count": 87,
   "id": "f48be169-d5d9-4d6f-8779-62065ab57932",
   "metadata": {},
   "outputs": [
    {
     "data": {
      "text/plain": [
       "array([[1., 1., 1., 1., 1.],\n",
       "       [1., 1., 1., 1., 1.],\n",
       "       [1., 1., 1., 1., 1.],\n",
       "       [1., 1., 1., 1., 1.],\n",
       "       [1., 1., 1., 1., 1.]])"
      ]
     },
     "execution_count": 87,
     "metadata": {},
     "output_type": "execute_result"
    }
   ],
   "source": [
    "np.ones((5, 5))"
   ]
  },
  {
   "cell_type": "code",
   "execution_count": 89,
   "id": "8fbabefa-8413-4f65-b90f-2543e494e700",
   "metadata": {},
   "outputs": [
    {
     "data": {
      "text/plain": [
       "array([[0, 0, 0],\n",
       "       [0, 0, 0],\n",
       "       [0, 0, 0]])"
      ]
     },
     "execution_count": 89,
     "metadata": {},
     "output_type": "execute_result"
    }
   ],
   "source": [
    "np.zeros_like(matrix)"
   ]
  },
  {
   "cell_type": "code",
   "execution_count": 91,
   "id": "a4ab80b5-ada9-4e14-97ae-8c6ad9090e62",
   "metadata": {},
   "outputs": [
    {
     "data": {
      "text/plain": [
       "array([[1, 1, 1],\n",
       "       [1, 1, 1],\n",
       "       [1, 1, 1]])"
      ]
     },
     "execution_count": 91,
     "metadata": {},
     "output_type": "execute_result"
    }
   ],
   "source": [
    "np.ones_like(matrix)"
   ]
  },
  {
   "cell_type": "code",
   "execution_count": 93,
   "id": "08d416c3-aa06-4f2c-82ca-808b011e67e9",
   "metadata": {},
   "outputs": [
    {
     "data": {
      "text/plain": [
       "array([[1., 0., 0., 0., 0.],\n",
       "       [0., 1., 0., 0., 0.],\n",
       "       [0., 0., 1., 0., 0.],\n",
       "       [0., 0., 0., 1., 0.],\n",
       "       [0., 0., 0., 0., 1.]])"
      ]
     },
     "execution_count": 93,
     "metadata": {},
     "output_type": "execute_result"
    }
   ],
   "source": [
    "np.eye(5)"
   ]
  },
  {
   "cell_type": "code",
   "execution_count": 95,
   "id": "d6165302-4bd4-4215-abdb-b28739054d52",
   "metadata": {},
   "outputs": [
    {
     "data": {
      "text/plain": [
       "array([[0.95666844, 0.94976899, 0.47986163, 0.91472932, 0.52737347],\n",
       "       [0.09511016, 0.01730728, 0.19980325, 0.93895214, 0.02913685],\n",
       "       [0.89874167, 0.08845992, 0.94788648, 0.62617567, 0.27375232],\n",
       "       [0.61469832, 0.60869401, 0.89475625, 0.25849671, 0.29108928],\n",
       "       [0.41379121, 0.97462447, 0.71351592, 0.42452182, 0.59539293]])"
      ]
     },
     "execution_count": 95,
     "metadata": {},
     "output_type": "execute_result"
    }
   ],
   "source": [
    "np.random.rand(5, 5)"
   ]
  },
  {
   "cell_type": "code",
   "execution_count": 97,
   "id": "f6c22c3c-995f-4793-81af-9da27cc278c5",
   "metadata": {},
   "outputs": [
    {
     "data": {
      "text/plain": [
       "array([[-0.71004525, -0.44259843,  1.5953391 ,  0.58298736,  0.61370172],\n",
       "       [-0.57490872, -0.56764283, -0.15394708,  2.08114939, -1.26385329],\n",
       "       [-0.95270479, -1.2925663 , -1.69828279, -1.78118098,  0.17156691],\n",
       "       [ 0.08322421, -0.97506274,  0.24821069, -0.18468266, -0.1839688 ],\n",
       "       [ 1.79390902,  0.75887154,  0.62465024, -0.37449865,  0.78242378]])"
      ]
     },
     "execution_count": 97,
     "metadata": {},
     "output_type": "execute_result"
    }
   ],
   "source": [
    "np.random.randn(5, 5)"
   ]
  },
  {
   "cell_type": "code",
   "execution_count": 99,
   "id": "b988067a-ca81-413a-b132-ce4fab59f20a",
   "metadata": {},
   "outputs": [
    {
     "data": {
      "text/plain": [
       "array([ 0,  1,  2,  3,  4,  5,  6,  7,  8,  9, 10, 11, 12, 13, 14, 15, 16,\n",
       "       17, 18, 19, 20, 21, 22, 23, 24])"
      ]
     },
     "execution_count": 99,
     "metadata": {},
     "output_type": "execute_result"
    }
   ],
   "source": [
    "array = np.arange(25)\n",
    "array"
   ]
  },
  {
   "cell_type": "code",
   "execution_count": 101,
   "id": "4fb4023d-10b9-455e-9f58-814d01152321",
   "metadata": {},
   "outputs": [
    {
     "data": {
      "text/plain": [
       "(25,)"
      ]
     },
     "execution_count": 101,
     "metadata": {},
     "output_type": "execute_result"
    }
   ],
   "source": [
    "array.shape"
   ]
  },
  {
   "cell_type": "code",
   "execution_count": 103,
   "id": "d7d057ce-b642-4112-931d-5e6657e6c90f",
   "metadata": {},
   "outputs": [
    {
     "data": {
      "text/plain": [
       "array([[ 0,  1,  2,  3,  4],\n",
       "       [ 5,  6,  7,  8,  9],\n",
       "       [10, 11, 12, 13, 14],\n",
       "       [15, 16, 17, 18, 19],\n",
       "       [20, 21, 22, 23, 24]])"
      ]
     },
     "execution_count": 103,
     "metadata": {},
     "output_type": "execute_result"
    }
   ],
   "source": [
    "array = array.reshape(5, 5)\n",
    "array"
   ]
  },
  {
   "cell_type": "code",
   "execution_count": 105,
   "id": "d07e6b29-bf0c-438c-865b-9d30f26fb61c",
   "metadata": {},
   "outputs": [
    {
     "data": {
      "text/plain": [
       "(5, 5)"
      ]
     },
     "execution_count": 105,
     "metadata": {},
     "output_type": "execute_result"
    }
   ],
   "source": [
    "array.shape"
   ]
  },
  {
   "cell_type": "code",
   "execution_count": 107,
   "id": "d944e115-2697-4c17-a746-a87e414133fc",
   "metadata": {},
   "outputs": [
    {
     "data": {
      "text/plain": [
       "24"
      ]
     },
     "execution_count": 107,
     "metadata": {},
     "output_type": "execute_result"
    }
   ],
   "source": [
    "array.max()"
   ]
  },
  {
   "cell_type": "code",
   "execution_count": 109,
   "id": "a2823999-1658-4476-b9e8-759ee0567f2e",
   "metadata": {},
   "outputs": [
    {
     "data": {
      "text/plain": [
       "0"
      ]
     },
     "execution_count": 109,
     "metadata": {},
     "output_type": "execute_result"
    }
   ],
   "source": [
    "array.min()"
   ]
  },
  {
   "cell_type": "code",
   "execution_count": 111,
   "id": "4a10e5ac-0657-4f48-b5d6-127245ea5f4f",
   "metadata": {},
   "outputs": [
    {
     "data": {
      "text/plain": [
       "24"
      ]
     },
     "execution_count": 111,
     "metadata": {},
     "output_type": "execute_result"
    }
   ],
   "source": [
    "array.argmax()"
   ]
  },
  {
   "cell_type": "code",
   "execution_count": 113,
   "id": "eb22f223-fbd9-403d-8e7f-bc8c59fa4faa",
   "metadata": {},
   "outputs": [
    {
     "data": {
      "text/plain": [
       "0"
      ]
     },
     "execution_count": 113,
     "metadata": {},
     "output_type": "execute_result"
    }
   ],
   "source": [
    "array.argmin()"
   ]
  },
  {
   "cell_type": "code",
   "execution_count": null,
   "id": "9d0420d3-e577-41d7-9f90-a5f726ce7411",
   "metadata": {},
   "outputs": [],
   "source": [
    "array[0, 0]"
   ]
  },
  {
   "cell_type": "code",
   "execution_count": 115,
   "id": "676596c3-c903-42c3-aeec-67c2d29f76b4",
   "metadata": {},
   "outputs": [],
   "source": [
    "array[0, 0] = 1"
   ]
  },
  {
   "cell_type": "code",
   "execution_count": 117,
   "id": "3fed8ee5-c2d0-4304-8842-e6345bc88856",
   "metadata": {},
   "outputs": [
    {
     "data": {
      "text/plain": [
       "array([1, 1, 2, 3, 4])"
      ]
     },
     "execution_count": 117,
     "metadata": {},
     "output_type": "execute_result"
    }
   ],
   "source": [
    "array[0, :]"
   ]
  },
  {
   "cell_type": "code",
   "execution_count": 119,
   "id": "6da5a9d8-fe11-442e-acb7-0091e58d1f1b",
   "metadata": {},
   "outputs": [
    {
     "data": {
      "text/plain": [
       "array([6, 7, 8])"
      ]
     },
     "execution_count": 119,
     "metadata": {},
     "output_type": "execute_result"
    }
   ],
   "source": [
    "array[1][1:4]"
   ]
  },
  {
   "cell_type": "code",
   "execution_count": 121,
   "id": "a1df0742-7c57-421c-b2c9-034b040c9e8f",
   "metadata": {},
   "outputs": [
    {
     "data": {
      "text/plain": [
       "array([ 3,  4,  5,  6,  7,  8,  9, 10, 11, 12, 13, 14, 15, 16, 17, 18, 19,\n",
       "       20, 21, 22, 23, 24])"
      ]
     },
     "execution_count": 121,
     "metadata": {},
     "output_type": "execute_result"
    }
   ],
   "source": [
    "x = 2\n",
    "array[array>x]"
   ]
  },
  {
   "cell_type": "code",
   "execution_count": 123,
   "id": "037d4128-6c2c-4206-aef1-a273122b8fcd",
   "metadata": {},
   "outputs": [],
   "source": [
    "array = np.array([1, 2, 3, 4, 5])"
   ]
  },
  {
   "cell_type": "code",
   "execution_count": 125,
   "id": "52e90250-4006-4c58-bf5e-ddfdced26ca5",
   "metadata": {},
   "outputs": [
    {
     "data": {
      "text/plain": [
       "array([ 2,  4,  6,  8, 10])"
      ]
     },
     "execution_count": 125,
     "metadata": {},
     "output_type": "execute_result"
    }
   ],
   "source": [
    "array + array"
   ]
  },
  {
   "cell_type": "code",
   "execution_count": 127,
   "id": "39536fee-0830-4d81-8849-563f99466881",
   "metadata": {},
   "outputs": [
    {
     "data": {
      "text/plain": [
       "array([ 1,  4,  9, 16, 25])"
      ]
     },
     "execution_count": 127,
     "metadata": {},
     "output_type": "execute_result"
    }
   ],
   "source": [
    "array * array"
   ]
  },
  {
   "cell_type": "code",
   "execution_count": 129,
   "id": "02bfddf7-ec83-4466-974a-2b5f64cc6a23",
   "metadata": {},
   "outputs": [
    {
     "data": {
      "text/plain": [
       "array([ 1,  4,  9, 16, 25])"
      ]
     },
     "execution_count": 129,
     "metadata": {},
     "output_type": "execute_result"
    }
   ],
   "source": [
    "array ** 2"
   ]
  },
  {
   "cell_type": "code",
   "execution_count": 131,
   "id": "66ce3a14-4819-4e31-a63e-d90ca6b60057",
   "metadata": {},
   "outputs": [
    {
     "data": {
      "text/plain": [
       "55"
      ]
     },
     "execution_count": 131,
     "metadata": {},
     "output_type": "execute_result"
    }
   ],
   "source": [
    "array.dot(array)"
   ]
  },
  {
   "cell_type": "code",
   "execution_count": 133,
   "id": "1ed40970-f7b6-40f5-a539-282a372300c0",
   "metadata": {},
   "outputs": [
    {
     "data": {
      "text/plain": [
       "array([1.        , 1.41421356, 1.73205081, 2.        , 2.23606798])"
      ]
     },
     "execution_count": 133,
     "metadata": {},
     "output_type": "execute_result"
    }
   ],
   "source": [
    "np.sqrt(array)"
   ]
  },
  {
   "cell_type": "code",
   "execution_count": 135,
   "id": "8810b4e3-4a89-42e4-9f9e-a6ff676c151d",
   "metadata": {},
   "outputs": [
    {
     "data": {
      "text/plain": [
       "array([  2.71828183,   7.3890561 ,  20.08553692,  54.59815003,\n",
       "       148.4131591 ])"
      ]
     },
     "execution_count": 135,
     "metadata": {},
     "output_type": "execute_result"
    }
   ],
   "source": [
    "np.exp(array)"
   ]
  },
  {
   "cell_type": "code",
   "execution_count": 137,
   "id": "e16f0571-a482-4dbf-8bad-a8117fbdbe56",
   "metadata": {},
   "outputs": [
    {
     "data": {
      "text/plain": [
       "array([ 0.84147098,  0.90929743,  0.14112001, -0.7568025 , -0.95892427])"
      ]
     },
     "execution_count": 137,
     "metadata": {},
     "output_type": "execute_result"
    }
   ],
   "source": [
    "np.sin(array)"
   ]
  },
  {
   "cell_type": "code",
   "execution_count": 139,
   "id": "cf02d0f1-e530-464d-ae93-9a1e02db685a",
   "metadata": {},
   "outputs": [
    {
     "data": {
      "text/plain": [
       "array([ 0.54030231, -0.41614684, -0.9899925 , -0.65364362,  0.28366219])"
      ]
     },
     "execution_count": 139,
     "metadata": {},
     "output_type": "execute_result"
    }
   ],
   "source": [
    "np.cos(array)"
   ]
  },
  {
   "cell_type": "code",
   "execution_count": 141,
   "id": "a7d37fae-0170-4799-a7d0-6bc5edc1978b",
   "metadata": {},
   "outputs": [
    {
     "data": {
      "text/plain": [
       "array([0.        , 0.69314718, 1.09861229, 1.38629436, 1.60943791])"
      ]
     },
     "execution_count": 141,
     "metadata": {},
     "output_type": "execute_result"
    }
   ],
   "source": [
    "np.log(array)"
   ]
  },
  {
   "cell_type": "code",
   "execution_count": 143,
   "id": "5269ff6c-b225-43e9-bc2f-988f0a995744",
   "metadata": {},
   "outputs": [],
   "source": [
    "array = np.arange(9).reshape(3, 3)"
   ]
  },
  {
   "cell_type": "code",
   "execution_count": 145,
   "id": "43aa7cf3-a0ab-4e3e-8309-8afd18a265b0",
   "metadata": {},
   "outputs": [
    {
     "data": {
      "text/plain": [
       "array([[ 15,  18,  21],\n",
       "       [ 42,  54,  66],\n",
       "       [ 69,  90, 111]])"
      ]
     },
     "execution_count": 145,
     "metadata": {},
     "output_type": "execute_result"
    }
   ],
   "source": [
    "np.matmul(array, array)"
   ]
  },
  {
   "cell_type": "markdown",
   "id": "f7548e5d-905a-4a60-a0ac-86dd9b698d11",
   "metadata": {},
   "source": [
    "# Exercise"
   ]
  },
  {
   "cell_type": "code",
   "execution_count": 147,
   "id": "e0e21e56-be0d-4ae8-bd89-78b95f670de5",
   "metadata": {},
   "outputs": [],
   "source": [
    "import matplotlib.pyplot as plt\n",
    "image = np.zeros((64, 64))"
   ]
  },
  {
   "cell_type": "code",
   "execution_count": 149,
   "id": "366016cd-66cd-4de7-a412-7157557451f6",
   "metadata": {},
   "outputs": [
    {
     "data": {
      "text/plain": [
       "<matplotlib.image.AxesImage at 0x241380bfe60>"
      ]
     },
     "execution_count": 149,
     "metadata": {},
     "output_type": "execute_result"
    },
    {
     "data": {
      "image/png": "[encoded data removed]",
      "text/plain": [
       "<Figure size 640x480 with 1 Axes>"
      ]
     },
     "metadata": {},
     "output_type": "display_data"
    }
   ],
   "source": [
    "plt.imshow(image, cmap='gray')"
   ]
  },
  {
   "cell_type": "code",
   "execution_count": 151,
   "id": "d4c77cf9-25ff-4082-9aef-ab704583d1e1",
   "metadata": {},
   "outputs": [],
   "source": [
    "start_row = 20\n",
    "start_col = 20\n",
    "square_size = 24\n",
    "image[start_row:start_row + square_size, start_col:start_col + square_size] = 255"
   ]
  },
  {
   "cell_type": "code",
   "execution_count": 153,
   "id": "1c22f5e6-0312-4534-9e24-9594f5f19fa1",
   "metadata": {},
   "outputs": [
    {
     "data": {
      "text/plain": [
       "<matplotlib.image.AxesImage at 0x2413824afc0>"
      ]
     },
     "execution_count": 153,
     "metadata": {},
     "output_type": "execute_result"
    },
    {
     "data": {
      "image/png": "[encoded data removed]",
      "text/plain": [
       "<Figure size 640x480 with 1 Axes>"
      ]
     },
     "metadata": {},
     "output_type": "display_data"
    }
   ],
   "source": [
    "plt.imshow(image, cmap='gray')"
   ]
  },
  {
   "cell_type": "code",
   "execution_count": 155,
   "id": "797293ea-2887-402b-b20e-68ecb1e8b3a4",
   "metadata": {},
   "outputs": [],
   "source": [
    "top_rows = image[:16, :]\n",
    "noise = np.random.randn(16, 1) * 100\n",
    "image[:16, :] = np.clip(image[:16, :] + noise, 0, 255)"
   ]
  },
  {
   "cell_type": "code",
   "execution_count": 157,
   "id": "d2865024-b6e4-4d6a-9954-32070c2a8f2d",
   "metadata": {},
   "outputs": [
    {
     "data": {
      "text/plain": [
       "<matplotlib.image.AxesImage at 0x24138317590>"
      ]
     },
     "execution_count": 157,
     "metadata": {},
     "output_type": "execute_result"
    },
    {
     "data": {
      "image/png": "[encoded data removed]",
      "text/plain": [
       "<Figure size 640x480 with 1 Axes>"
      ]
     },
     "metadata": {},
     "output_type": "display_data"
    }
   ],
   "source": [
    "plt.imshow(image, cmap='gray')"
   ]
  },
  {
   "cell_type": "code",
   "execution_count": 159,
   "id": "0078f35f-251d-473f-9cfa-6fb0b265590e",
   "metadata": {},
   "outputs": [],
   "source": [
    "left_cols = image[:, :16]\n",
    "noise2 = np.random.randn(64, 16) * 100\n",
    "image[:, :16] = np.clip(image[:, :16] + noise2, 0, 255)"
   ]
  },
  {
   "cell_type": "code",
   "execution_count": 161,
   "id": "183a37c2-7c6e-42e4-9eb8-86ea5a046cd3",
   "metadata": {},
   "outputs": [
    {
     "data": {
      "text/plain": [
       "<matplotlib.image.AxesImage at 0x24138381340>"
      ]
     },
     "execution_count": 161,
     "metadata": {},
     "output_type": "execute_result"
    },
    {
     "data": {
      "image/png": "[encoded data removed]",
      "text/plain": [
       "<Figure size 640x480 with 1 Axes>"
      ]
     },
     "metadata": {},
     "output_type": "display_data"
    }
   ],
   "source": [
    "plt.imshow(image, cmap='gray')"
   ]
  },
  {
   "cell_type": "code",
   "execution_count": 163,
   "id": "cbc2c29f-36d2-4ffa-8d3f-5ae2be52bbcf",
   "metadata": {},
   "outputs": [],
   "source": [
    "kernel = np.ones((3, 3)) / 9\n",
    "blurred_image = np.zeros_like(image)\n",
    "for i in range(1, image.shape[0] - 1):\n",
    "    for j in range(1, image.shape[1] - 1):\n",
    "        blurred_image[i, j] = np.sum(image[i-1:i+2, j-1:j+2] * kernel)"
   ]
  },
  {
   "cell_type": "code",
   "execution_count": 165,
   "id": "0e97d9f2-bb2a-445a-ac18-d1fba306d306",
   "metadata": {},
   "outputs": [
    {
     "data": {
      "text/plain": [
       "<matplotlib.image.AxesImage at 0x2413a434620>"
      ]
     },
     "execution_count": 165,
     "metadata": {},
     "output_type": "execute_result"
    },
    {
     "data": {
      "image/png": "[encoded data removed]",
      "text/plain": [
       "<Figure size 640x480 with 1 Axes>"
      ]
     },
     "metadata": {},
     "output_type": "display_data"
    }
   ],
   "source": [
    "plt.imshow(blurred_image, cmap='gray')"
   ]
  },
  {
   "cell_type": "code",
   "execution_count": 167,
   "id": "f505da12-0c8c-4a4d-801d-98676b4b1634",
   "metadata": {},
   "outputs": [
    {
     "name": "stdout",
     "output_type": "stream",
     "text": [
      "Mean pixel value: 49.44235395723434\n",
      "Max pixel value: 255.0 at coordinates: (21, 21)\n",
      "Min pixel value: 0.0 at coordinates: (0, 0)\n"
     ]
    }
   ],
   "source": [
    "mean_pixel_value = np.mean(blurred_image)\n",
    "max_pixel_value = np.max(blurred_image)\n",
    "min_pixel_value = np.min(blurred_image)\n",
    "max_coords = np.unravel_index(np.argmax(blurred_image), blurred_image.shape)\n",
    "min_coords = np.unravel_index(np.argmin(blurred_image), blurred_image.shape)\n",
    "\n",
    "print(f\"Mean pixel value: {mean_pixel_value}\")\n",
    "print(f\"Max pixel value: {max_pixel_value} at coordinates: {max_coords}\")\n",
    "print(f\"Min pixel value: {min_pixel_value} at coordinates: {min_coords}\")"
   ]
  },
  {
   "cell_type": "code",
   "execution_count": 169,
   "id": "47661669-10eb-40b9-a67d-4a0a053c167b",
   "metadata": {},
   "outputs": [
    {
     "data": {
      "image/png": "[encoded data removed]",
      "text/plain": [
       "<Figure size 640x480 with 1 Axes>"
      ]
     },
     "metadata": {},
     "output_type": "display_data"
    },
    {
     "data": {
      "image/png": "[encoded data removed]",
      "text/plain": [
       "<Figure size 640x480 with 1 Axes>"
      ]
     },
     "metadata": {},
     "output_type": "display_data"
    }
   ],
   "source": [
    "plt.imshow(image, cmap='gray')\n",
    "plt.title(\"Original Image\")\n",
    "plt.show()\n",
    "plt.imshow(blurred_image, cmap='gray')\n",
    "plt.title(\"Blurred Image\")\n",
    "plt.show()"
   ]
  },
  {
   "cell_type": "code",
   "execution_count": null,
   "id": "573df147-518e-443e-87a7-270fc7b5bae9",
   "metadata": {},
   "outputs": [],
   "source": []
  }
 ],
 "metadata": {
  "kernelspec": {
   "display_name": "Python 3 (ipykernel)",
   "language": "python",
   "name": "python3"
  },
  "language_info": {
   "codemirror_mode": {
    "name": "ipython",
    "version": 3
   },
   "file_extension": ".py",
   "mimetype": "text/x-python",
   "name": "python",
   "nbconvert_exporter": "python",
   "pygments_lexer": "ipython3",
   "version": "3.12.4"
  }
 },
 "nbformat": 4,
 "nbformat_minor": 5
}
